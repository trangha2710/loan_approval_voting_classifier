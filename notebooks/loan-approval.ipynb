{
 "cells": [
  {
   "cell_type": "code",
   "execution_count": 3,
   "metadata": {
    "_cell_guid": "b1076dfc-b9ad-4769-8c92-a6c4dae69d19",
    "_uuid": "8f2839f25d086af736a60e9eeb907d3b93b6e0e5",
    "execution": {
     "iopub.execute_input": "2025-06-13T05:49:28.928859Z",
     "iopub.status.busy": "2025-06-13T05:49:28.928516Z",
     "iopub.status.idle": "2025-06-13T05:49:28.946776Z",
     "shell.execute_reply": "2025-06-13T05:49:28.945826Z",
     "shell.execute_reply.started": "2025-06-13T05:49:28.928832Z"
    },
    "trusted": true
   },
   "outputs": [],
   "source": [
    "# This Python 3 environment comes with many helpful analytics libraries installed\n",
    "# It is defined by the kaggle/python Docker image: https://github.com/kaggle/docker-python\n",
    "# For example, here's several helpful packages to load\n",
    "from seaborn import set_style\n",
    "from sklearn import datasets\n",
    "from sklearn import metrics\n",
    "import seaborn as sns\n",
    "import numpy as np # linear algebra\n",
    "import pandas as pd # data processing, CSV file I/O (e.g. pd.read_csv)\n",
    "import matplotlib.pyplot as plt\n",
    "import os\n",
    "os.environ[\"MLFLOW_TRACKING_URI\"] = \"http://localhost:5000\""
   ]
  },
  {
   "cell_type": "markdown",
   "metadata": {},
   "source": [
    "# Import the dataset"
   ]
  },
  {
   "cell_type": "code",
   "execution_count": 4,
   "metadata": {
    "execution": {
     "iopub.execute_input": "2025-06-13T05:49:28.948788Z",
     "iopub.status.busy": "2025-06-13T05:49:28.948448Z",
     "iopub.status.idle": "2025-06-13T05:49:29.049007Z",
     "shell.execute_reply": "2025-06-13T05:49:29.047594Z",
     "shell.execute_reply.started": "2025-06-13T05:49:28.948763Z"
    },
    "trusted": true
   },
   "outputs": [
    {
     "data": {
      "text/html": [
       "<div>\n",
       "<style scoped>\n",
       "    .dataframe tbody tr th:only-of-type {\n",
       "        vertical-align: middle;\n",
       "    }\n",
       "\n",
       "    .dataframe tbody tr th {\n",
       "        vertical-align: top;\n",
       "    }\n",
       "\n",
       "    .dataframe thead th {\n",
       "        text-align: right;\n",
       "    }\n",
       "</style>\n",
       "<table border=\"1\" class=\"dataframe\">\n",
       "  <thead>\n",
       "    <tr style=\"text-align: right;\">\n",
       "      <th></th>\n",
       "      <th>person_age</th>\n",
       "      <th>person_gender</th>\n",
       "      <th>person_education</th>\n",
       "      <th>person_income</th>\n",
       "      <th>person_emp_exp</th>\n",
       "      <th>person_home_ownership</th>\n",
       "      <th>loan_amnt</th>\n",
       "      <th>loan_intent</th>\n",
       "      <th>loan_int_rate</th>\n",
       "      <th>loan_percent_income</th>\n",
       "      <th>cb_person_cred_hist_length</th>\n",
       "      <th>credit_score</th>\n",
       "      <th>previous_loan_defaults_on_file</th>\n",
       "      <th>loan_status</th>\n",
       "    </tr>\n",
       "  </thead>\n",
       "  <tbody>\n",
       "    <tr>\n",
       "      <th>0</th>\n",
       "      <td>22.0</td>\n",
       "      <td>female</td>\n",
       "      <td>Master</td>\n",
       "      <td>71948.0</td>\n",
       "      <td>0</td>\n",
       "      <td>RENT</td>\n",
       "      <td>35000.0</td>\n",
       "      <td>PERSONAL</td>\n",
       "      <td>16.02</td>\n",
       "      <td>0.49</td>\n",
       "      <td>3.0</td>\n",
       "      <td>561</td>\n",
       "      <td>No</td>\n",
       "      <td>1</td>\n",
       "    </tr>\n",
       "    <tr>\n",
       "      <th>1</th>\n",
       "      <td>21.0</td>\n",
       "      <td>female</td>\n",
       "      <td>High School</td>\n",
       "      <td>12282.0</td>\n",
       "      <td>0</td>\n",
       "      <td>OWN</td>\n",
       "      <td>1000.0</td>\n",
       "      <td>EDUCATION</td>\n",
       "      <td>11.14</td>\n",
       "      <td>0.08</td>\n",
       "      <td>2.0</td>\n",
       "      <td>504</td>\n",
       "      <td>Yes</td>\n",
       "      <td>0</td>\n",
       "    </tr>\n",
       "    <tr>\n",
       "      <th>2</th>\n",
       "      <td>25.0</td>\n",
       "      <td>female</td>\n",
       "      <td>High School</td>\n",
       "      <td>12438.0</td>\n",
       "      <td>3</td>\n",
       "      <td>MORTGAGE</td>\n",
       "      <td>5500.0</td>\n",
       "      <td>MEDICAL</td>\n",
       "      <td>12.87</td>\n",
       "      <td>0.44</td>\n",
       "      <td>3.0</td>\n",
       "      <td>635</td>\n",
       "      <td>No</td>\n",
       "      <td>1</td>\n",
       "    </tr>\n",
       "    <tr>\n",
       "      <th>3</th>\n",
       "      <td>23.0</td>\n",
       "      <td>female</td>\n",
       "      <td>Bachelor</td>\n",
       "      <td>79753.0</td>\n",
       "      <td>0</td>\n",
       "      <td>RENT</td>\n",
       "      <td>35000.0</td>\n",
       "      <td>MEDICAL</td>\n",
       "      <td>15.23</td>\n",
       "      <td>0.44</td>\n",
       "      <td>2.0</td>\n",
       "      <td>675</td>\n",
       "      <td>No</td>\n",
       "      <td>1</td>\n",
       "    </tr>\n",
       "    <tr>\n",
       "      <th>4</th>\n",
       "      <td>24.0</td>\n",
       "      <td>male</td>\n",
       "      <td>Master</td>\n",
       "      <td>66135.0</td>\n",
       "      <td>1</td>\n",
       "      <td>RENT</td>\n",
       "      <td>35000.0</td>\n",
       "      <td>MEDICAL</td>\n",
       "      <td>14.27</td>\n",
       "      <td>0.53</td>\n",
       "      <td>4.0</td>\n",
       "      <td>586</td>\n",
       "      <td>No</td>\n",
       "      <td>1</td>\n",
       "    </tr>\n",
       "  </tbody>\n",
       "</table>\n",
       "</div>"
      ],
      "text/plain": [
       "   person_age person_gender person_education  person_income  person_emp_exp  \\\n",
       "0        22.0        female           Master        71948.0               0   \n",
       "1        21.0        female      High School        12282.0               0   \n",
       "2        25.0        female      High School        12438.0               3   \n",
       "3        23.0        female         Bachelor        79753.0               0   \n",
       "4        24.0          male           Master        66135.0               1   \n",
       "\n",
       "  person_home_ownership  loan_amnt loan_intent  loan_int_rate  \\\n",
       "0                  RENT    35000.0    PERSONAL          16.02   \n",
       "1                   OWN     1000.0   EDUCATION          11.14   \n",
       "2              MORTGAGE     5500.0     MEDICAL          12.87   \n",
       "3                  RENT    35000.0     MEDICAL          15.23   \n",
       "4                  RENT    35000.0     MEDICAL          14.27   \n",
       "\n",
       "   loan_percent_income  cb_person_cred_hist_length  credit_score  \\\n",
       "0                 0.49                         3.0           561   \n",
       "1                 0.08                         2.0           504   \n",
       "2                 0.44                         3.0           635   \n",
       "3                 0.44                         2.0           675   \n",
       "4                 0.53                         4.0           586   \n",
       "\n",
       "  previous_loan_defaults_on_file  loan_status  \n",
       "0                             No            1  \n",
       "1                            Yes            0  \n",
       "2                             No            1  \n",
       "3                             No            1  \n",
       "4                             No            1  "
      ]
     },
     "execution_count": 4,
     "metadata": {},
     "output_type": "execute_result"
    }
   ],
   "source": [
    "loan_data = pd.read_csv('F:\\\\Kaggle\\\\loan approval\\\\loan_data.csv')\n",
    "loan_data.shape\n",
    "loan_data.head()"
   ]
  },
  {
   "cell_type": "markdown",
   "metadata": {},
   "source": [
    "# Inspect the dataset"
   ]
  },
  {
   "cell_type": "code",
   "execution_count": 5,
   "metadata": {
    "execution": {
     "iopub.execute_input": "2025-06-13T05:49:29.051616Z",
     "iopub.status.busy": "2025-06-13T05:49:29.050796Z",
     "iopub.status.idle": "2025-06-13T05:49:29.078461Z",
     "shell.execute_reply": "2025-06-13T05:49:29.076844Z",
     "shell.execute_reply.started": "2025-06-13T05:49:29.051588Z"
    },
    "trusted": true
   },
   "outputs": [
    {
     "name": "stdout",
     "output_type": "stream",
     "text": [
      "<class 'pandas.core.frame.DataFrame'>\n",
      "RangeIndex: 45000 entries, 0 to 44999\n",
      "Data columns (total 14 columns):\n",
      " #   Column                          Non-Null Count  Dtype  \n",
      "---  ------                          --------------  -----  \n",
      " 0   person_age                      45000 non-null  float64\n",
      " 1   person_gender                   45000 non-null  object \n",
      " 2   person_education                45000 non-null  object \n",
      " 3   person_income                   45000 non-null  float64\n",
      " 4   person_emp_exp                  45000 non-null  int64  \n",
      " 5   person_home_ownership           45000 non-null  object \n",
      " 6   loan_amnt                       45000 non-null  float64\n",
      " 7   loan_intent                     45000 non-null  object \n",
      " 8   loan_int_rate                   45000 non-null  float64\n",
      " 9   loan_percent_income             45000 non-null  float64\n",
      " 10  cb_person_cred_hist_length      45000 non-null  float64\n",
      " 11  credit_score                    45000 non-null  int64  \n",
      " 12  previous_loan_defaults_on_file  45000 non-null  object \n",
      " 13  loan_status                     45000 non-null  int64  \n",
      "dtypes: float64(6), int64(3), object(5)\n",
      "memory usage: 4.8+ MB\n"
     ]
    }
   ],
   "source": [
    "loan_data.info()"
   ]
  },
  {
   "cell_type": "code",
   "execution_count": 6,
   "metadata": {
    "execution": {
     "iopub.execute_input": "2025-06-13T05:49:29.082093Z",
     "iopub.status.busy": "2025-06-13T05:49:29.081700Z",
     "iopub.status.idle": "2025-06-13T05:49:29.093737Z",
     "shell.execute_reply": "2025-06-13T05:49:29.092580Z",
     "shell.execute_reply.started": "2025-06-13T05:49:29.082066Z"
    },
    "trusted": true
   },
   "outputs": [],
   "source": [
    "loan_data['person_age'] = loan_data['person_age'].astype('int64')"
   ]
  },
  {
   "cell_type": "code",
   "execution_count": 7,
   "metadata": {
    "execution": {
     "iopub.execute_input": "2025-06-13T05:49:29.095582Z",
     "iopub.status.busy": "2025-06-13T05:49:29.095131Z",
     "iopub.status.idle": "2025-06-13T05:49:29.156228Z",
     "shell.execute_reply": "2025-06-13T05:49:29.155093Z",
     "shell.execute_reply.started": "2025-06-13T05:49:29.095543Z"
    },
    "trusted": true
   },
   "outputs": [
    {
     "data": {
      "text/html": [
       "<div>\n",
       "<style scoped>\n",
       "    .dataframe tbody tr th:only-of-type {\n",
       "        vertical-align: middle;\n",
       "    }\n",
       "\n",
       "    .dataframe tbody tr th {\n",
       "        vertical-align: top;\n",
       "    }\n",
       "\n",
       "    .dataframe thead th {\n",
       "        text-align: right;\n",
       "    }\n",
       "</style>\n",
       "<table border=\"1\" class=\"dataframe\">\n",
       "  <thead>\n",
       "    <tr style=\"text-align: right;\">\n",
       "      <th></th>\n",
       "      <th>person_age</th>\n",
       "      <th>person_income</th>\n",
       "      <th>person_emp_exp</th>\n",
       "      <th>loan_amnt</th>\n",
       "      <th>loan_int_rate</th>\n",
       "      <th>loan_percent_income</th>\n",
       "      <th>cb_person_cred_hist_length</th>\n",
       "      <th>credit_score</th>\n",
       "      <th>loan_status</th>\n",
       "    </tr>\n",
       "  </thead>\n",
       "  <tbody>\n",
       "    <tr>\n",
       "      <th>count</th>\n",
       "      <td>45000.000000</td>\n",
       "      <td>4.500000e+04</td>\n",
       "      <td>45000.000000</td>\n",
       "      <td>45000.000000</td>\n",
       "      <td>45000.000000</td>\n",
       "      <td>45000.000000</td>\n",
       "      <td>45000.000000</td>\n",
       "      <td>45000.000000</td>\n",
       "      <td>45000.000000</td>\n",
       "    </tr>\n",
       "    <tr>\n",
       "      <th>mean</th>\n",
       "      <td>27.764178</td>\n",
       "      <td>8.031905e+04</td>\n",
       "      <td>5.410333</td>\n",
       "      <td>9583.157556</td>\n",
       "      <td>11.006606</td>\n",
       "      <td>0.139725</td>\n",
       "      <td>5.867489</td>\n",
       "      <td>632.608756</td>\n",
       "      <td>0.222222</td>\n",
       "    </tr>\n",
       "    <tr>\n",
       "      <th>std</th>\n",
       "      <td>6.045108</td>\n",
       "      <td>8.042250e+04</td>\n",
       "      <td>6.063532</td>\n",
       "      <td>6314.886691</td>\n",
       "      <td>2.978808</td>\n",
       "      <td>0.087212</td>\n",
       "      <td>3.879702</td>\n",
       "      <td>50.435865</td>\n",
       "      <td>0.415744</td>\n",
       "    </tr>\n",
       "    <tr>\n",
       "      <th>min</th>\n",
       "      <td>20.000000</td>\n",
       "      <td>8.000000e+03</td>\n",
       "      <td>0.000000</td>\n",
       "      <td>500.000000</td>\n",
       "      <td>5.420000</td>\n",
       "      <td>0.000000</td>\n",
       "      <td>2.000000</td>\n",
       "      <td>390.000000</td>\n",
       "      <td>0.000000</td>\n",
       "    </tr>\n",
       "    <tr>\n",
       "      <th>25%</th>\n",
       "      <td>24.000000</td>\n",
       "      <td>4.720400e+04</td>\n",
       "      <td>1.000000</td>\n",
       "      <td>5000.000000</td>\n",
       "      <td>8.590000</td>\n",
       "      <td>0.070000</td>\n",
       "      <td>3.000000</td>\n",
       "      <td>601.000000</td>\n",
       "      <td>0.000000</td>\n",
       "    </tr>\n",
       "    <tr>\n",
       "      <th>50%</th>\n",
       "      <td>26.000000</td>\n",
       "      <td>6.704800e+04</td>\n",
       "      <td>4.000000</td>\n",
       "      <td>8000.000000</td>\n",
       "      <td>11.010000</td>\n",
       "      <td>0.120000</td>\n",
       "      <td>4.000000</td>\n",
       "      <td>640.000000</td>\n",
       "      <td>0.000000</td>\n",
       "    </tr>\n",
       "    <tr>\n",
       "      <th>75%</th>\n",
       "      <td>30.000000</td>\n",
       "      <td>9.578925e+04</td>\n",
       "      <td>8.000000</td>\n",
       "      <td>12237.250000</td>\n",
       "      <td>12.990000</td>\n",
       "      <td>0.190000</td>\n",
       "      <td>8.000000</td>\n",
       "      <td>670.000000</td>\n",
       "      <td>0.000000</td>\n",
       "    </tr>\n",
       "    <tr>\n",
       "      <th>max</th>\n",
       "      <td>144.000000</td>\n",
       "      <td>7.200766e+06</td>\n",
       "      <td>125.000000</td>\n",
       "      <td>35000.000000</td>\n",
       "      <td>20.000000</td>\n",
       "      <td>0.660000</td>\n",
       "      <td>30.000000</td>\n",
       "      <td>850.000000</td>\n",
       "      <td>1.000000</td>\n",
       "    </tr>\n",
       "  </tbody>\n",
       "</table>\n",
       "</div>"
      ],
      "text/plain": [
       "         person_age  person_income  person_emp_exp     loan_amnt  \\\n",
       "count  45000.000000   4.500000e+04    45000.000000  45000.000000   \n",
       "mean      27.764178   8.031905e+04        5.410333   9583.157556   \n",
       "std        6.045108   8.042250e+04        6.063532   6314.886691   \n",
       "min       20.000000   8.000000e+03        0.000000    500.000000   \n",
       "25%       24.000000   4.720400e+04        1.000000   5000.000000   \n",
       "50%       26.000000   6.704800e+04        4.000000   8000.000000   \n",
       "75%       30.000000   9.578925e+04        8.000000  12237.250000   \n",
       "max      144.000000   7.200766e+06      125.000000  35000.000000   \n",
       "\n",
       "       loan_int_rate  loan_percent_income  cb_person_cred_hist_length  \\\n",
       "count   45000.000000         45000.000000                45000.000000   \n",
       "mean       11.006606             0.139725                    5.867489   \n",
       "std         2.978808             0.087212                    3.879702   \n",
       "min         5.420000             0.000000                    2.000000   \n",
       "25%         8.590000             0.070000                    3.000000   \n",
       "50%        11.010000             0.120000                    4.000000   \n",
       "75%        12.990000             0.190000                    8.000000   \n",
       "max        20.000000             0.660000                   30.000000   \n",
       "\n",
       "       credit_score   loan_status  \n",
       "count  45000.000000  45000.000000  \n",
       "mean     632.608756      0.222222  \n",
       "std       50.435865      0.415744  \n",
       "min      390.000000      0.000000  \n",
       "25%      601.000000      0.000000  \n",
       "50%      640.000000      0.000000  \n",
       "75%      670.000000      0.000000  \n",
       "max      850.000000      1.000000  "
      ]
     },
     "execution_count": 7,
     "metadata": {},
     "output_type": "execute_result"
    }
   ],
   "source": [
    "loan_data.describe()"
   ]
  },
  {
   "cell_type": "code",
   "execution_count": 8,
   "metadata": {
    "execution": {
     "iopub.execute_input": "2025-06-13T05:49:29.157774Z",
     "iopub.status.busy": "2025-06-13T05:49:29.157497Z",
     "iopub.status.idle": "2025-06-13T05:49:29.179517Z",
     "shell.execute_reply": "2025-06-13T05:49:29.178310Z",
     "shell.execute_reply.started": "2025-06-13T05:49:29.157750Z"
    },
    "trusted": true
   },
   "outputs": [
    {
     "name": "stdout",
     "output_type": "stream",
     "text": [
      "Unique values in 'person_gender': ['female' 'male']\n",
      "Unique values in 'person_education': ['Master' 'High School' 'Bachelor' 'Associate' 'Doctorate']\n",
      "Unique values in 'person_home_ownership': ['RENT' 'OWN' 'MORTGAGE' 'OTHER']\n",
      "Unique values in 'loan_intent': ['PERSONAL' 'EDUCATION' 'MEDICAL' 'VENTURE' 'HOMEIMPROVEMENT'\n",
      " 'DEBTCONSOLIDATION']\n",
      "Unique values in 'previous_loan_defaults_on_file': ['No' 'Yes']\n"
     ]
    }
   ],
   "source": [
    "#Check unique values in character columns\n",
    "for col in loan_data.select_dtypes(include='object').columns:\n",
    "    print(f\"Unique values in '{col}': {loan_data[col].unique()}\")"
   ]
  },
  {
   "cell_type": "code",
   "execution_count": 9,
   "metadata": {
    "execution": {
     "iopub.execute_input": "2025-06-13T05:49:29.181339Z",
     "iopub.status.busy": "2025-06-13T05:49:29.180913Z",
     "iopub.status.idle": "2025-06-13T05:49:29.201526Z",
     "shell.execute_reply": "2025-06-13T05:49:29.200421Z",
     "shell.execute_reply.started": "2025-06-13T05:49:29.181312Z"
    },
    "trusted": true
   },
   "outputs": [
    {
     "data": {
      "text/plain": [
       "person_age                        0\n",
       "person_gender                     0\n",
       "person_education                  0\n",
       "person_income                     0\n",
       "person_emp_exp                    0\n",
       "person_home_ownership             0\n",
       "loan_amnt                         0\n",
       "loan_intent                       0\n",
       "loan_int_rate                     0\n",
       "loan_percent_income               0\n",
       "cb_person_cred_hist_length        0\n",
       "credit_score                      0\n",
       "previous_loan_defaults_on_file    0\n",
       "loan_status                       0\n",
       "dtype: int64"
      ]
     },
     "execution_count": 9,
     "metadata": {},
     "output_type": "execute_result"
    }
   ],
   "source": [
    "#Check for missing values\n",
    "loan_data.isna().sum()"
   ]
  },
  {
   "cell_type": "code",
   "execution_count": 10,
   "metadata": {
    "execution": {
     "iopub.execute_input": "2025-06-13T05:49:29.202995Z",
     "iopub.status.busy": "2025-06-13T05:49:29.202676Z",
     "iopub.status.idle": "2025-06-13T05:49:29.349780Z",
     "shell.execute_reply": "2025-06-13T05:49:29.348976Z",
     "shell.execute_reply.started": "2025-06-13T05:49:29.202940Z"
    },
    "trusted": true
   },
   "outputs": [
    {
     "data": {
      "text/plain": [
       "Text(0.5, 0, 'Person Age')"
      ]
     },
     "execution_count": 10,
     "metadata": {},
     "output_type": "execute_result"
    },
    {
     "data": {
      "image/png": "[encoded data removed]",
      "text/plain": [
       "<Figure size 640x480 with 1 Axes>"
      ]
     },
     "metadata": {},
     "output_type": "display_data"
    }
   ],
   "source": [
    "sns.boxplot(data=loan_data, x='person_age')\n",
    "plt.xlabel('Person Age')"
   ]
  },
  {
   "cell_type": "markdown",
   "metadata": {},
   "source": [
    "The \"Rosner Statistic\" quantifies how many standard deviations the outlier is from the mean. **The higher the statistic, the more extreme the outlier.**"
   ]
  },
  {
   "cell_type": "code",
   "execution_count": 11,
   "metadata": {
    "execution": {
     "iopub.execute_input": "2025-06-13T05:49:29.351076Z",
     "iopub.status.busy": "2025-06-13T05:49:29.350756Z",
     "iopub.status.idle": "2025-06-13T05:49:29.361040Z",
     "shell.execute_reply": "2025-06-13T05:49:29.360200Z",
     "shell.execute_reply.started": "2025-06-13T05:49:29.351049Z"
    },
    "trusted": true
   },
   "outputs": [
    {
     "name": "stdout",
     "output_type": "stream",
     "text": [
      "Outliers detected with Rosner's Test:\n",
      "Value: 144, Rosner Statistic: 19.228079656872502\n",
      "Value: 144, Rosner Statistic: 19.228079656872502\n",
      "Value: 144, Rosner Statistic: 19.228079656872502\n",
      "Value: 123, Rosner Statistic: 15.754196433313862\n",
      "Value: 123, Rosner Statistic: 15.754196433313862\n",
      "Value: 116, Rosner Statistic: 14.596235358794315\n",
      "Value: 109, Rosner Statistic: 13.438274284274767\n",
      "Value: 94, Rosner Statistic: 10.956929124590022\n",
      "Value: 84, Rosner Statistic: 9.302699018133527\n",
      "Value: 80, Rosner Statistic: 8.641006975550928\n"
     ]
    }
   ],
   "source": [
    "def rosner_test(data, alpha=0.05):\n",
    "    n = len(data)\n",
    "    k = 10  # Number of outliers to detect\n",
    "    data_sorted = np.sort(data)\n",
    "    # Calculate the mean and standard deviation\n",
    "    mean = np.mean(data_sorted)\n",
    "    std_dev = np.std(data_sorted, ddof=1)  # Sample standard deviation\n",
    "    # Check for outliers\n",
    "    outliers = []\n",
    "    for i in range(k):\n",
    "        # Calculate the Rosner statistic\n",
    "        rosner_stat = (data_sorted[-(i + 1)] - mean) / std_dev\n",
    "        outliers.append((data_sorted[-(i + 1)], rosner_stat))\n",
    "    return outliers\n",
    "\n",
    "# Perform Rosner's Test\n",
    "outlier_results = rosner_test(loan_data['person_age'])\n",
    "print(\"Outliers detected with Rosner's Test:\")\n",
    "for value, stat in outlier_results:\n",
    "    print(f\"Value: {value}, Rosner Statistic: {stat}\")"
   ]
  },
  {
   "cell_type": "markdown",
   "metadata": {},
   "source": [
    "* Values from 109 to 144 of age can be considered outliers since theirs Rosner Statistic are pretty high.\n",
    "* In real life cases, the loan applicants' age goes from 21 to 60 years old(maybe up to 80 years old but rarely).\n",
    "* For that reason, observations with **age over 80 years will be excluded**."
   ]
  },
  {
   "cell_type": "markdown",
   "metadata": {},
   "source": [
    "# Statistical summary and tests"
   ]
  },
  {
   "cell_type": "code",
   "execution_count": 12,
   "metadata": {
    "execution": {
     "iopub.execute_input": "2025-06-13T05:49:29.366906Z",
     "iopub.status.busy": "2025-06-13T05:49:29.366023Z",
     "iopub.status.idle": "2025-06-13T05:49:29.425179Z",
     "shell.execute_reply": "2025-06-13T05:49:29.424049Z",
     "shell.execute_reply.started": "2025-06-13T05:49:29.366867Z"
    },
    "trusted": true
   },
   "outputs": [
    {
     "data": {
      "text/html": [
       "<div>\n",
       "<style scoped>\n",
       "    .dataframe tbody tr th:only-of-type {\n",
       "        vertical-align: middle;\n",
       "    }\n",
       "\n",
       "    .dataframe tbody tr th {\n",
       "        vertical-align: top;\n",
       "    }\n",
       "\n",
       "    .dataframe thead th {\n",
       "        text-align: right;\n",
       "    }\n",
       "</style>\n",
       "<table border=\"1\" class=\"dataframe\">\n",
       "  <thead>\n",
       "    <tr style=\"text-align: right;\">\n",
       "      <th></th>\n",
       "      <th>person_age</th>\n",
       "      <th>person_income</th>\n",
       "      <th>person_emp_exp</th>\n",
       "      <th>loan_amnt</th>\n",
       "      <th>loan_int_rate</th>\n",
       "      <th>loan_percent_income</th>\n",
       "      <th>cb_person_cred_hist_length</th>\n",
       "      <th>credit_score</th>\n",
       "      <th>loan_status</th>\n",
       "    </tr>\n",
       "  </thead>\n",
       "  <tbody>\n",
       "    <tr>\n",
       "      <th>count</th>\n",
       "      <td>44991.000000</td>\n",
       "      <td>4.499100e+04</td>\n",
       "      <td>44991.000000</td>\n",
       "      <td>44991.000000</td>\n",
       "      <td>44991.000000</td>\n",
       "      <td>44991.000000</td>\n",
       "      <td>44991.000000</td>\n",
       "      <td>44991.000000</td>\n",
       "      <td>44991.000000</td>\n",
       "    </tr>\n",
       "    <tr>\n",
       "      <th>mean</th>\n",
       "      <td>27.745705</td>\n",
       "      <td>7.990879e+04</td>\n",
       "      <td>5.391723</td>\n",
       "      <td>9583.236025</td>\n",
       "      <td>11.006526</td>\n",
       "      <td>0.139736</td>\n",
       "      <td>5.865684</td>\n",
       "      <td>632.579227</td>\n",
       "      <td>0.222267</td>\n",
       "    </tr>\n",
       "    <tr>\n",
       "      <th>std</th>\n",
       "      <td>5.895647</td>\n",
       "      <td>6.332289e+04</td>\n",
       "      <td>5.912127</td>\n",
       "      <td>6314.925978</td>\n",
       "      <td>2.979006</td>\n",
       "      <td>0.087208</td>\n",
       "      <td>3.875030</td>\n",
       "      <td>50.394127</td>\n",
       "      <td>0.415774</td>\n",
       "    </tr>\n",
       "    <tr>\n",
       "      <th>min</th>\n",
       "      <td>20.000000</td>\n",
       "      <td>8.000000e+03</td>\n",
       "      <td>0.000000</td>\n",
       "      <td>500.000000</td>\n",
       "      <td>5.420000</td>\n",
       "      <td>0.000000</td>\n",
       "      <td>2.000000</td>\n",
       "      <td>390.000000</td>\n",
       "      <td>0.000000</td>\n",
       "    </tr>\n",
       "    <tr>\n",
       "      <th>25%</th>\n",
       "      <td>24.000000</td>\n",
       "      <td>4.719650e+04</td>\n",
       "      <td>1.000000</td>\n",
       "      <td>5000.000000</td>\n",
       "      <td>8.590000</td>\n",
       "      <td>0.070000</td>\n",
       "      <td>3.000000</td>\n",
       "      <td>601.000000</td>\n",
       "      <td>0.000000</td>\n",
       "    </tr>\n",
       "    <tr>\n",
       "      <th>50%</th>\n",
       "      <td>26.000000</td>\n",
       "      <td>6.704600e+04</td>\n",
       "      <td>4.000000</td>\n",
       "      <td>8000.000000</td>\n",
       "      <td>11.010000</td>\n",
       "      <td>0.120000</td>\n",
       "      <td>4.000000</td>\n",
       "      <td>640.000000</td>\n",
       "      <td>0.000000</td>\n",
       "    </tr>\n",
       "    <tr>\n",
       "      <th>75%</th>\n",
       "      <td>30.000000</td>\n",
       "      <td>9.577600e+04</td>\n",
       "      <td>8.000000</td>\n",
       "      <td>12237.500000</td>\n",
       "      <td>12.990000</td>\n",
       "      <td>0.190000</td>\n",
       "      <td>8.000000</td>\n",
       "      <td>670.000000</td>\n",
       "      <td>0.000000</td>\n",
       "    </tr>\n",
       "    <tr>\n",
       "      <th>max</th>\n",
       "      <td>80.000000</td>\n",
       "      <td>2.448661e+06</td>\n",
       "      <td>62.000000</td>\n",
       "      <td>35000.000000</td>\n",
       "      <td>20.000000</td>\n",
       "      <td>0.660000</td>\n",
       "      <td>30.000000</td>\n",
       "      <td>784.000000</td>\n",
       "      <td>1.000000</td>\n",
       "    </tr>\n",
       "  </tbody>\n",
       "</table>\n",
       "</div>"
      ],
      "text/plain": [
       "         person_age  person_income  person_emp_exp     loan_amnt  \\\n",
       "count  44991.000000   4.499100e+04    44991.000000  44991.000000   \n",
       "mean      27.745705   7.990879e+04        5.391723   9583.236025   \n",
       "std        5.895647   6.332289e+04        5.912127   6314.925978   \n",
       "min       20.000000   8.000000e+03        0.000000    500.000000   \n",
       "25%       24.000000   4.719650e+04        1.000000   5000.000000   \n",
       "50%       26.000000   6.704600e+04        4.000000   8000.000000   \n",
       "75%       30.000000   9.577600e+04        8.000000  12237.500000   \n",
       "max       80.000000   2.448661e+06       62.000000  35000.000000   \n",
       "\n",
       "       loan_int_rate  loan_percent_income  cb_person_cred_hist_length  \\\n",
       "count   44991.000000         44991.000000                44991.000000   \n",
       "mean       11.006526             0.139736                    5.865684   \n",
       "std         2.979006             0.087208                    3.875030   \n",
       "min         5.420000             0.000000                    2.000000   \n",
       "25%         8.590000             0.070000                    3.000000   \n",
       "50%        11.010000             0.120000                    4.000000   \n",
       "75%        12.990000             0.190000                    8.000000   \n",
       "max        20.000000             0.660000                   30.000000   \n",
       "\n",
       "       credit_score   loan_status  \n",
       "count  44991.000000  44991.000000  \n",
       "mean     632.579227      0.222267  \n",
       "std       50.394127      0.415774  \n",
       "min      390.000000      0.000000  \n",
       "25%      601.000000      0.000000  \n",
       "50%      640.000000      0.000000  \n",
       "75%      670.000000      0.000000  \n",
       "max      784.000000      1.000000  "
      ]
     },
     "execution_count": 12,
     "metadata": {},
     "output_type": "execute_result"
    }
   ],
   "source": [
    "loan_data = loan_data[loan_data['person_age'] <= 80]\n",
    "loan_data.describe()"
   ]
  },
  {
   "cell_type": "code",
   "execution_count": 13,
   "metadata": {
    "execution": {
     "iopub.execute_input": "2025-06-13T05:49:29.427943Z",
     "iopub.status.busy": "2025-06-13T05:49:29.427649Z",
     "iopub.status.idle": "2025-06-13T05:49:29.731210Z",
     "shell.execute_reply": "2025-06-13T05:49:29.730045Z",
     "shell.execute_reply.started": "2025-06-13T05:49:29.427900Z"
    },
    "trusted": true
   },
   "outputs": [
    {
     "data": {
      "text/plain": [
       "Text(0.5, 0, 'Person Income')"
      ]
     },
     "execution_count": 13,
     "metadata": {},
     "output_type": "execute_result"
    },
    {
     "data": {
      "image/png": "[encoded data removed]",
      "text/plain": [
       "<Figure size 640x480 with 1 Axes>"
      ]
     },
     "metadata": {},
     "output_type": "display_data"
    }
   ],
   "source": [
    "sns.histplot(data=loan_data, x='person_income', bins = 100)\n",
    "plt.xlabel('Person Income')"
   ]
  },
  {
   "cell_type": "code",
   "execution_count": 14,
   "metadata": {
    "execution": {
     "iopub.execute_input": "2025-06-13T05:49:29.732737Z",
     "iopub.status.busy": "2025-06-13T05:49:29.732419Z",
     "iopub.status.idle": "2025-06-13T05:49:30.117853Z",
     "shell.execute_reply": "2025-06-13T05:49:30.116983Z",
     "shell.execute_reply.started": "2025-06-13T05:49:29.732712Z"
    },
    "trusted": true
   },
   "outputs": [
    {
     "data": {
      "text/plain": [
       "Text(0.5, 0, 'Loan Amount')"
      ]
     },
     "execution_count": 14,
     "metadata": {},
     "output_type": "execute_result"
    },
    {
     "data": {
      "image/png": "[encoded data removed]",
      "text/plain": [
       "<Figure size 640x480 with 1 Axes>"
      ]
     },
     "metadata": {},
     "output_type": "display_data"
    }
   ],
   "source": [
    "sns.histplot(data=loan_data, x='loan_amnt', bins = 100)\n",
    "plt.xlabel('Loan Amount')"
   ]
  },
  {
   "cell_type": "code",
   "execution_count": 15,
   "metadata": {
    "execution": {
     "iopub.execute_input": "2025-06-13T05:49:30.119372Z",
     "iopub.status.busy": "2025-06-13T05:49:30.119079Z",
     "iopub.status.idle": "2025-06-13T05:49:30.151137Z",
     "shell.execute_reply": "2025-06-13T05:49:30.150137Z",
     "shell.execute_reply.started": "2025-06-13T05:49:30.119336Z"
    },
    "trusted": true
   },
   "outputs": [
    {
     "name": "stdout",
     "output_type": "stream",
     "text": [
      "F-statistic: 2.5860354995317025\n",
      "p-value: 0.0350270493881243\n",
      "Reject the null hypothesis: There are significant differences in income based on education.\n"
     ]
    },
    {
     "data": {
      "text/html": [
       "<div>\n",
       "<style scoped>\n",
       "    .dataframe tbody tr th:only-of-type {\n",
       "        vertical-align: middle;\n",
       "    }\n",
       "\n",
       "    .dataframe tbody tr th {\n",
       "        vertical-align: top;\n",
       "    }\n",
       "\n",
       "    .dataframe thead th {\n",
       "        text-align: right;\n",
       "    }\n",
       "</style>\n",
       "<table border=\"1\" class=\"dataframe\">\n",
       "  <thead>\n",
       "    <tr style=\"text-align: right;\">\n",
       "      <th></th>\n",
       "      <th>Person Education</th>\n",
       "      <th>Average Income</th>\n",
       "    </tr>\n",
       "  </thead>\n",
       "  <tbody>\n",
       "    <tr>\n",
       "      <th>0</th>\n",
       "      <td>Associate</td>\n",
       "      <td>80036.193165</td>\n",
       "    </tr>\n",
       "    <tr>\n",
       "      <th>1</th>\n",
       "      <td>Bachelor</td>\n",
       "      <td>79277.687145</td>\n",
       "    </tr>\n",
       "    <tr>\n",
       "      <th>2</th>\n",
       "      <td>Doctorate</td>\n",
       "      <td>87234.541063</td>\n",
       "    </tr>\n",
       "    <tr>\n",
       "      <th>3</th>\n",
       "      <td>High School</td>\n",
       "      <td>79766.953626</td>\n",
       "    </tr>\n",
       "    <tr>\n",
       "      <th>4</th>\n",
       "      <td>Master</td>\n",
       "      <td>80491.924355</td>\n",
       "    </tr>\n",
       "  </tbody>\n",
       "</table>\n",
       "</div>"
      ],
      "text/plain": [
       "  Person Education  Average Income\n",
       "0        Associate    80036.193165\n",
       "1         Bachelor    79277.687145\n",
       "2        Doctorate    87234.541063\n",
       "3      High School    79766.953626\n",
       "4           Master    80491.924355"
      ]
     },
     "execution_count": 15,
     "metadata": {},
     "output_type": "execute_result"
    }
   ],
   "source": [
    "#ANOVA test for education groups, target variable is person_income\n",
    "from scipy import stats\n",
    "from scipy.stats import f_oneway\n",
    "groups = loan_data.groupby('person_education')['person_income'].apply(list)\n",
    "f_statistic, p_value = stats.f_oneway(*groups)\n",
    "print(\"F-statistic:\", f_statistic)\n",
    "print(\"p-value:\", p_value)\n",
    "alpha = 0.05\n",
    "if p_value < alpha:\n",
    "    print(\"Reject the null hypothesis: There are significant differences in income based on education.\")\n",
    "else:\n",
    "    print(\"Fail to reject the null hypothesis: No significant differences in income based on education.\")\n",
    "#descriptive table\n",
    "mean_income_table = loan_data.groupby('person_education')['person_income'].mean().reset_index()\n",
    "mean_income_table.columns = ['Person Education', 'Average Income']\n",
    "mean_income_table"
   ]
  },
  {
   "cell_type": "code",
   "execution_count": 16,
   "metadata": {
    "execution": {
     "iopub.execute_input": "2025-06-13T05:49:30.152428Z",
     "iopub.status.busy": "2025-06-13T05:49:30.152177Z",
     "iopub.status.idle": "2025-06-13T05:49:30.170835Z",
     "shell.execute_reply": "2025-06-13T05:49:30.169981Z",
     "shell.execute_reply.started": "2025-06-13T05:49:30.152407Z"
    },
    "trusted": true
   },
   "outputs": [
    {
     "name": "stdout",
     "output_type": "stream",
     "text": [
      "                            correlation        p-value\n",
      "person_income                 -0.169040  1.352810e-285\n",
      "person_age                    -0.020348   1.585860e-05\n",
      "person_emp_exp                -0.019326   4.141419e-05\n",
      "loan_amnt                      0.107721  3.303727e-116\n",
      "cb_person_cred_hist_length    -0.014622   1.925655e-03\n",
      "credit_score                  -0.007341   1.194384e-01\n"
     ]
    }
   ],
   "source": [
    "#Perfom point biserial correlation test for loan_status and other continuous variables\n",
    "from scipy.stats import pointbiserialr\n",
    "numeric_vars = ['person_income', 'person_age','person_emp_exp','loan_amnt','cb_person_cred_hist_length','credit_score']\n",
    "correlations = {}\n",
    "for var in numeric_vars:\n",
    "    corr, p_value = pointbiserialr(loan_data['loan_status'], loan_data[var])\n",
    "    correlations[var] = {'correlation': corr, 'p-value': p_value}\n",
    "\n",
    "correlation_df = pd.DataFrame(correlations).T\n",
    "print(correlation_df)"
   ]
  },
  {
   "cell_type": "markdown",
   "metadata": {},
   "source": [
    "* Except for **credit_score**, the p-values of other variables indicates a statistically significant result. However, their correlation coefficients are pretty weak.\n",
    "* With categorical variables, a Chi-squared test is suitable to find the relationship between them and the target variable 'credit_score'"
   ]
  },
  {
   "cell_type": "code",
   "execution_count": 17,
   "metadata": {
    "execution": {
     "iopub.execute_input": "2025-06-13T05:49:30.172339Z",
     "iopub.status.busy": "2025-06-13T05:49:30.172063Z",
     "iopub.status.idle": "2025-06-13T05:49:30.234491Z",
     "shell.execute_reply": "2025-06-13T05:49:30.233549Z",
     "shell.execute_reply.started": "2025-06-13T05:49:30.172316Z"
    },
    "trusted": true
   },
   "outputs": [
    {
     "name": "stdout",
     "output_type": "stream",
     "text": [
      "                                chi2_statistic        p_value\n",
      "person_gender                         0.009483   9.224255e-01\n",
      "person_education                      2.038595   7.286601e-01\n",
      "person_home_ownership              2989.334289   0.000000e+00\n",
      "loan_intent                         908.677892  3.523462e-194\n",
      "previous_loan_defaults_on_file    13272.901595   0.000000e+00\n"
     ]
    }
   ],
   "source": [
    "from scipy.stats import chi2_contingency\n",
    "categorical_vars = ['person_gender','person_education','person_home_ownership','loan_intent','previous_loan_defaults_on_file']\n",
    "results = {}\n",
    "for var in categorical_vars:\n",
    "    contingency_table = pd.crosstab(loan_data[var], loan_data['loan_status'])\n",
    "    chi2, p, dof, expected = chi2_contingency(contingency_table)\n",
    "    results[var] = {'chi2_statistic': chi2, 'p_value': p}\n",
    "results_df = pd.DataFrame(results).T\n",
    "print(results_df)"
   ]
  },
  {
   "cell_type": "markdown",
   "metadata": {},
   "source": [
    "* **person_gender**: p-value > 0.05 => There is no significant association between gender and loan status\n",
    "* **person_education**: p-value > 0.05 => There is no significant relationship between education level and loan status\n",
    "* **person_home_ownership**: p-value < 0.05 => There is a significant association between home ownership status and loan status\n",
    "* **loan_intent**: p-value < 0.05 => There is a significant relationship between loan intent and loan status\n",
    "* **previous_loan_defaults_on_file**: p-value < 0.05 => There is a significant association between home ownership status and loan status"
   ]
  },
  {
   "cell_type": "code",
   "execution_count": 18,
   "metadata": {
    "execution": {
     "iopub.execute_input": "2025-06-13T05:49:30.235756Z",
     "iopub.status.busy": "2025-06-13T05:49:30.235497Z",
     "iopub.status.idle": "2025-06-13T05:49:30.499523Z",
     "shell.execute_reply": "2025-06-13T05:49:30.498692Z",
     "shell.execute_reply.started": "2025-06-13T05:49:30.235734Z"
    },
    "trusted": true
   },
   "outputs": [
    {
     "name": "stderr",
     "output_type": "stream",
     "text": [
      "C:\\Users\\trang\\AppData\\Local\\Temp\\ipykernel_4448\\1505977590.py:6: FutureWarning: \n",
      "\n",
      "Passing `palette` without assigning `hue` is deprecated and will be removed in v0.14.0. Assign the `x` variable to `hue` and set `legend=False` for the same effect.\n",
      "\n",
      "  sns.barplot(x=class_counts.index, y=class_counts.values, palette='viridis')\n"
     ]
    },
    {
     "data": {
      "image/png": "[encoded data removed]",
      "text/plain": [
       "<Figure size 600x400 with 1 Axes>"
      ]
     },
     "metadata": {},
     "output_type": "display_data"
    },
    {
     "data": {
      "image/png": "[encoded data removed]",
      "text/plain": [
       "<Figure size 600x600 with 1 Axes>"
      ]
     },
     "metadata": {},
     "output_type": "display_data"
    }
   ],
   "source": [
    "#Check target variable\n",
    "class_counts = loan_data['loan_status'].value_counts()\n",
    "\n",
    "# Bar plot\n",
    "plt.figure(figsize=(6, 4))\n",
    "sns.barplot(x=class_counts.index, y=class_counts.values, palette='viridis')\n",
    "plt.title('Class Distribution of loan_status')\n",
    "plt.xlabel('Loan Status')\n",
    "plt.ylabel('Count')\n",
    "plt.tight_layout()\n",
    "plt.show()\n",
    "# Pie plot\n",
    "plt.figure(figsize=(6, 6))\n",
    "plt.pie(class_counts.values, labels=class_counts.index, autopct='%1.1f%%', colors=sns.color_palette('pastel'))\n",
    "plt.title('Loan Status Distribution')\n",
    "plt.show()"
   ]
  },
  {
   "cell_type": "markdown",
   "metadata": {},
   "source": [
    "# Voting Classifier"
   ]
  },
  {
   "cell_type": "code",
   "execution_count": 19,
   "metadata": {
    "execution": {
     "iopub.execute_input": "2025-06-13T05:49:30.500804Z",
     "iopub.status.busy": "2025-06-13T05:49:30.500505Z",
     "iopub.status.idle": "2025-06-13T05:49:30.505607Z",
     "shell.execute_reply": "2025-06-13T05:49:30.504682Z",
     "shell.execute_reply.started": "2025-06-13T05:49:30.500780Z"
    },
    "trusted": true
   },
   "outputs": [],
   "source": [
    "from sklearn.model_selection import train_test_split\n",
    "from sklearn.preprocessing import OneHotEncoder, StandardScaler, FunctionTransformer\n",
    "from sklearn.compose import ColumnTransformer\n",
    "from imblearn.pipeline import Pipeline\n",
    "from sklearn.metrics import accuracy_score, classification_report"
   ]
  },
  {
   "cell_type": "code",
   "execution_count": 20,
   "metadata": {
    "execution": {
     "iopub.execute_input": "2025-06-13T05:49:30.507869Z",
     "iopub.status.busy": "2025-06-13T05:49:30.506543Z",
     "iopub.status.idle": "2025-06-13T05:49:30.547055Z",
     "shell.execute_reply": "2025-06-13T05:49:30.545907Z",
     "shell.execute_reply.started": "2025-06-13T05:49:30.507836Z"
    },
    "trusted": true
   },
   "outputs": [],
   "source": [
    "X = loan_data.drop('loan_status', axis=1)\n",
    "y = loan_data['loan_status']\n",
    "X_train, X_test, y_train, y_test = train_test_split(X, y, test_size=0.2, random_state=42)\n",
    "categorical_features = X.select_dtypes(include=['object']).columns.tolist()\n",
    "numerical_features = ['person_age','person_emp_exp','cb_person_cred_hist_length','credit_score'] \n",
    "log_features = ['person_income','loan_amnt']\n",
    "# Define transformation pipelines\n",
    "log_pipeline = Pipeline([\n",
    "    ('log', FunctionTransformer(np.log, validate=True)),\n",
    "    ('scaler', StandardScaler())])\n",
    "num_pipeline = Pipeline([\n",
    "    ('scaler', StandardScaler())])\n",
    "preprocessor = ColumnTransformer(\n",
    "    transformers=[\n",
    "        ('log', log_pipeline, log_features),\n",
    "        ('num', num_pipeline, numerical_features),\n",
    "        ('cat', OneHotEncoder(handle_unknown='ignore'), categorical_features)])"
   ]
  },
  {
   "cell_type": "code",
   "execution_count": 21,
   "metadata": {
    "execution": {
     "iopub.execute_input": "2025-06-13T05:49:30.549264Z",
     "iopub.status.busy": "2025-06-13T05:49:30.548634Z",
     "iopub.status.idle": "2025-06-13T05:49:30.554814Z",
     "shell.execute_reply": "2025-06-13T05:49:30.553888Z",
     "shell.execute_reply.started": "2025-06-13T05:49:30.549229Z"
    },
    "trusted": true
   },
   "outputs": [],
   "source": [
    "from imblearn.under_sampling import RandomUnderSampler\n",
    "from sklearn.tree import DecisionTreeClassifier\n",
    "from sklearn.linear_model import LogisticRegression\n",
    "from sklearn.ensemble import RandomForestClassifier\n",
    "from sklearn.ensemble import VotingClassifier"
   ]
  },
  {
   "cell_type": "code",
   "execution_count": 22,
   "metadata": {
    "execution": {
     "iopub.execute_input": "2025-06-13T05:49:30.556202Z",
     "iopub.status.busy": "2025-06-13T05:49:30.555778Z",
     "iopub.status.idle": "2025-06-13T05:49:34.654745Z",
     "shell.execute_reply": "2025-06-13T05:49:34.653798Z",
     "shell.execute_reply.started": "2025-06-13T05:49:30.556175Z"
    },
    "trusted": true
   },
   "outputs": [],
   "source": [
    "# Create classifiers\n",
    "dt_classifier = DecisionTreeClassifier(class_weight='balanced', random_state=42, max_depth=6)\n",
    "lr_classifier = LogisticRegression(class_weight='balanced', random_state=42, max_iter=200)\n",
    "rf_classifier = RandomForestClassifier(n_estimators=100, random_state=42, class_weight='balanced')\n",
    "\n",
    "# Create a voting classifier\n",
    "voting_classifier = VotingClassifier(estimators=[\n",
    "    ('decision_tree', dt_classifier),\n",
    "    ('logistic_regression', lr_classifier),\n",
    "    ('random_forest', rf_classifier)\n",
    "], voting='soft')\n",
    "\n",
    "# Initialize RandomUnderSampler\n",
    "undersampler = RandomUnderSampler(sampling_strategy='majority', random_state=42)\n",
    "\n",
    "# Create a pipeline with undersampling\n",
    "pipeline = Pipeline(steps=[\n",
    "    ('under_sampler', undersampler),\n",
    "    ('preprocessor', preprocessor),\n",
    "    ('classifier', voting_classifier)\n",
    "])"
   ]
  },
  {
   "cell_type": "code",
   "execution_count": 23,
   "metadata": {},
   "outputs": [
    {
     "name": "stdout",
     "output_type": "stream",
     "text": [
      "Tracking URI now = http://localhost:5000\n"
     ]
    },
    {
     "name": "stderr",
     "output_type": "stream",
     "text": [
      "2025/06/17 20:06:14 WARNING mlflow.models.model: `artifact_path` is deprecated. Please use `name` instead.\n",
      "2025/06/17 20:06:19 WARNING mlflow.models.model: Model logged without a signature and input example. Please set `input_example` parameter when logging the model to auto infer the model signature.\n"
     ]
    },
    {
     "name": "stdout",
     "output_type": "stream",
     "text": [
      "🏃 View run languid-wren-796 at: http://localhost:5000/#/experiments/0/runs/0c9a8b43a9464273a66ba7444e66065c\n",
      "🧪 View experiment at: http://localhost:5000/#/experiments/0\n",
      "Accuracy: 0.8235359484387154\n",
      "Classification Report:\n",
      "               precision    recall  f1-score   support\n",
      "\n",
      "           0       0.98      0.79      0.87      6987\n",
      "           1       0.56      0.94      0.70      2012\n",
      "\n",
      "    accuracy                           0.82      8999\n",
      "   macro avg       0.77      0.86      0.79      8999\n",
      "weighted avg       0.89      0.82      0.84      8999\n",
      "\n"
     ]
    }
   ],
   "source": [
    "#MLflow\n",
    "import mlflow\n",
    "import mlflow.sklearn\n",
    "mlflow.set_tracking_uri(\"http://localhost:5000\")\n",
    "print(\"Tracking URI now =\", mlflow.get_tracking_uri())\n",
    "try:\n",
    "    with mlflow.start_run():\n",
    "        # Fit the pipeline\n",
    "        pipeline.fit(X_train, y_train)\n",
    "        # Predict\n",
    "        y_pred = pipeline.predict(X_test)\n",
    "        # Evaluate\n",
    "        accuracy = accuracy_score(y_test, y_pred)\n",
    "        report = classification_report(y_test, y_pred, output_dict=True)  # để log được f1, precision\n",
    "        # Log params\n",
    "        mlflow.log_param(\"model_type\", \"VotingClassifier\")\n",
    "        mlflow.log_param(\"voting\", \"soft\")\n",
    "        mlflow.log_param(\"dt_max_depth\", 6)\n",
    "        mlflow.log_param(\"rf_n_estimators\", 100)\n",
    "        mlflow.log_param(\"sampling_strategy\", \"RandomUnderSampler\")\n",
    "        # Log metrics\n",
    "        mlflow.log_metric(\"accuracy\", accuracy)\n",
    "        mlflow.log_metric(\"f1_score\", report['weighted avg']['f1-score'])\n",
    "        mlflow.log_metric(\"precision\", report['weighted avg']['precision'])\n",
    "        mlflow.log_metric(\"recall\", report['weighted avg']['recall'])\n",
    "        # Log model\n",
    "        mlflow.sklearn.log_model(pipeline, \"loan_voting_model\")\n",
    "except Exception as e:\n",
    "    print(\"Error during MLflow run:\", e)\n",
    "    mlflow.end_run(status=\"FAILED\")  # Mark failed nếu có bug\n",
    "else:\n",
    "    mlflow.end_run(status=\"FINISHED\") \n",
    "    print(\"Accuracy:\", accuracy)\n",
    "    print(\"Classification Report:\\n\", classification_report(y_test, y_pred))"
   ]
  },
  {
   "cell_type": "markdown",
   "metadata": {},
   "source": [
    "# Evaluate the result model"
   ]
  },
  {
   "cell_type": "code",
   "execution_count": 24,
   "metadata": {
    "execution": {
     "iopub.execute_input": "2025-06-13T05:49:34.885169Z",
     "iopub.status.busy": "2025-06-13T05:49:34.884785Z",
     "iopub.status.idle": "2025-06-13T05:49:35.406126Z",
     "shell.execute_reply": "2025-06-13T05:49:35.405349Z",
     "shell.execute_reply.started": "2025-06-13T05:49:34.885142Z"
    },
    "trusted": true
   },
   "outputs": [
    {
     "name": "stdout",
     "output_type": "stream",
     "text": [
      "AUC Score: 0.9465\n"
     ]
    },
    {
     "data": {
      "image/png": "[encoded data removed]",
      "text/plain": [
       "<Figure size 600x400 with 1 Axes>"
      ]
     },
     "metadata": {},
     "output_type": "display_data"
    }
   ],
   "source": [
    "from sklearn.metrics import roc_auc_score, roc_curve\n",
    "import matplotlib.pyplot as plt\n",
    "\n",
    "# Make predictions (probability estimates)\n",
    "y_proba = pipeline.predict_proba(X_test)[:, 1]  # get probabilities for the positive class\n",
    "\n",
    "# Calculate AUC\n",
    "auc_score = roc_auc_score(y_test, y_proba)\n",
    "print(f\"AUC Score: {auc_score:.4f}\")\n",
    "\n",
    "# Optional: Plot ROC curve\n",
    "fpr, tpr, _ = roc_curve(y_test, y_proba)\n",
    "plt.figure(figsize=(6, 4))\n",
    "plt.plot(fpr, tpr, label=f\"AUC = {auc_score:.4f}\")\n",
    "plt.plot([0, 1], [0, 1], linestyle='--', color='gray')\n",
    "plt.xlabel('False Positive Rate')\n",
    "plt.ylabel('True Positive Rate')\n",
    "plt.title('ROC Curve')\n",
    "plt.legend()\n",
    "plt.grid(True)\n",
    "plt.tight_layout()\n",
    "plt.show()"
   ]
  },
  {
   "cell_type": "markdown",
   "metadata": {},
   "source": [
    "## Calibrate"
   ]
  },
  {
   "cell_type": "code",
   "execution_count": 26,
   "metadata": {
    "execution": {
     "iopub.execute_input": "2025-06-13T05:58:52.828713Z",
     "iopub.status.busy": "2025-06-13T05:58:52.828379Z",
     "iopub.status.idle": "2025-06-13T05:59:07.123906Z",
     "shell.execute_reply": "2025-06-13T05:59:07.123200Z",
     "shell.execute_reply.started": "2025-06-13T05:58:52.828688Z"
    },
    "trusted": true
   },
   "outputs": [],
   "source": [
    "from sklearn.calibration import CalibratedClassifierCV\n",
    "\n",
    "calibrated_clf = CalibratedClassifierCV(estimator=voting_classifier, method='isotonic', cv=5)\n",
    "\n",
    "pipeline_calibrated = Pipeline(steps=[\n",
    "    ('undersampler', undersampler),\n",
    "    ('preprocessor', preprocessor),\n",
    "    ('classifier', calibrated_clf)\n",
    "])\n",
    "\n",
    "pipeline_calibrated.fit(X_train, y_train)\n",
    "y_proba = pipeline_calibrated.predict_proba(X_test)[:, 1]"
   ]
  },
  {
   "cell_type": "code",
   "execution_count": 27,
   "metadata": {
    "execution": {
     "iopub.execute_input": "2025-06-13T05:59:10.025288Z",
     "iopub.status.busy": "2025-06-13T05:59:10.024882Z",
     "iopub.status.idle": "2025-06-13T05:59:10.435846Z",
     "shell.execute_reply": "2025-06-13T05:59:10.434847Z",
     "shell.execute_reply.started": "2025-06-13T05:59:10.025262Z"
    },
    "trusted": true
   },
   "outputs": [
    {
     "data": {
      "image/png": "[encoded data removed]",
      "text/plain": [
       "<Figure size 1000x500 with 2 Axes>"
      ]
     },
     "metadata": {},
     "output_type": "display_data"
    }
   ],
   "source": [
    "from sklearn.metrics import roc_curve, auc, precision_recall_curve, average_precision_score\n",
    "# ROC Curve\n",
    "fpr, tpr, _ = roc_curve(y_test, y_proba)\n",
    "roc_auc = auc(fpr, tpr)\n",
    "\n",
    "# PR Curve\n",
    "precision, recall, _ = precision_recall_curve(y_test, y_proba)\n",
    "average_precision = average_precision_score(y_test, y_proba)\n",
    "plt.figure(figsize=(10, 5))\n",
    "plt.subplot(1, 2, 1)\n",
    "plt.plot(fpr, tpr, label=f'AUC = {roc_auc:.2f}')\n",
    "plt.plot([0, 1], [0, 1], 'k--', label='Random Guess')\n",
    "plt.xlabel('False Positive Rate')\n",
    "plt.ylabel('True Positive Rate')\n",
    "plt.title('ROC Curve (Isotonic Calibrated)')\n",
    "plt.legend()\n",
    "\n",
    "#PR curve\n",
    "plt.subplot(1, 2, 2)\n",
    "plt.plot(recall, precision, label=f'AP = {average_precision:.2f}')\n",
    "plt.xlabel('Recall')\n",
    "plt.ylabel('Precision')\n",
    "plt.title('Precision-Recall Curve (Isotonic Calibrated)')\n",
    "plt.legend()\n",
    "\n",
    "plt.tight_layout()\n",
    "plt.show()"
   ]
  },
  {
   "cell_type": "code",
   "execution_count": 28,
   "metadata": {
    "execution": {
     "iopub.execute_input": "2025-06-13T06:01:59.924683Z",
     "iopub.status.busy": "2025-06-13T06:01:59.924392Z",
     "iopub.status.idle": "2025-06-13T06:01:59.932007Z",
     "shell.execute_reply": "2025-06-13T06:01:59.931234Z",
     "shell.execute_reply.started": "2025-06-13T06:01:59.924663Z"
    },
    "trusted": true
   },
   "outputs": [
    {
     "name": "stdout",
     "output_type": "stream",
     "text": [
      "Brier Score: 0.1005\n"
     ]
    }
   ],
   "source": [
    "from sklearn.metrics import brier_score_loss\n",
    "\n",
    "brier = brier_score_loss(y_test, y_proba)\n",
    "print(f\"Brier Score: {brier:.4f}\")"
   ]
  },
  {
   "cell_type": "markdown",
   "metadata": {},
   "source": [
    "* Based on ROC curve, the model improves after calibrating\n",
    "* According to PR curve, with AP = 0.85, which means it performs well on imbalanced data (label \"1\" is less than label \"0\")\n",
    "* Brier Score: 0.1005 means that the model's predicted probabilities are quite good and reasonably well-calibrated."
   ]
  },
  {
   "cell_type": "markdown",
   "metadata": {},
   "source": [
    "## Tuning Voting Classifier"
   ]
  },
  {
   "cell_type": "code",
   "execution_count": null,
   "metadata": {
    "execution": {
     "iopub.execute_input": "2025-06-13T05:57:15.226474Z",
     "iopub.status.busy": "2025-06-13T05:57:15.226126Z",
     "iopub.status.idle": "2025-06-13T05:57:16.406398Z",
     "shell.execute_reply": "2025-06-13T05:57:16.405479Z",
     "shell.execute_reply.started": "2025-06-13T05:57:15.226450Z"
    },
    "trusted": true
   },
   "outputs": [
    {
     "name": "stdout",
     "output_type": "stream",
     "text": [
      "✅ Best threshold (F1): 0.662\n",
      "📈 Best F1-score: 0.733\n"
     ]
    },
    {
     "data": {
      "image/png": "[encoded data removed]",
      "text/plain": [
       "<Figure size 640x480 with 1 Axes>"
      ]
     },
     "metadata": {},
     "output_type": "display_data"
    }
   ],
   "source": [
    "from sklearn.metrics import precision_recall_curve\n",
    "\n",
    "# Get predicted probabilities for class 1\n",
    "y_proba = pipeline.predict_proba(X_test)[:, 1]\n",
    "# Evaluate PR curve\n",
    "precision, recall, thresholds = precision_recall_curve(y_test, y_proba)\n",
    "\n",
    "# Compute F1-score for each threshold\n",
    "f1_scores = 2 * (precision * recall) / (precision + recall + 1e-8)\n",
    "\n",
    "# Find the threshold with the best F1-score\n",
    "best_index = np.argmax(f1_scores)\n",
    "best_threshold = thresholds[best_index]\n",
    "best_f1 = f1_scores[best_index]\n",
    "\n",
    "print(f\"✅ Best threshold (F1): {best_threshold:.3f}\")\n",
    "print(f\"📈 Best F1-score: {best_f1:.3f}\")\n",
    "\n",
    "# Plot to find trade-off\n",
    "import matplotlib.pyplot as plt\n",
    "plt.plot(thresholds, precision[1:], label='Precision')\n",
    "plt.plot(thresholds, recall[1:], label='Recall')\n",
    "plt.xlabel('Threshold')\n",
    "plt.legend()\n",
    "plt.title('Precision-Recall Trade-off')\n",
    "plt.show()"
   ]
  },
  {
   "cell_type": "code",
   "execution_count": null,
   "metadata": {
    "execution": {
     "iopub.execute_input": "2025-06-13T06:00:48.121793Z",
     "iopub.status.busy": "2025-06-13T06:00:48.121478Z",
     "iopub.status.idle": "2025-06-13T06:00:48.172110Z",
     "shell.execute_reply": "2025-06-13T06:00:48.171197Z",
     "shell.execute_reply.started": "2025-06-13T06:00:48.121769Z"
    },
    "trusted": true
   },
   "outputs": [
    {
     "name": "stdout",
     "output_type": "stream",
     "text": [
      "📊 Report @ threshold = 0.5\n",
      "              precision    recall  f1-score   support\n",
      "\n",
      "           0       0.98      0.79      0.87      6987\n",
      "           1       0.56      0.94      0.70      2012\n",
      "\n",
      "    accuracy                           0.82      8999\n",
      "   macro avg       0.77      0.86      0.79      8999\n",
      "weighted avg       0.89      0.82      0.84      8999\n",
      "\n",
      "📊 Report @ threshold = best F1\n",
      "              precision    recall  f1-score   support\n",
      "\n",
      "           0       0.94      0.89      0.91      6987\n",
      "           1       0.68      0.80      0.73      2012\n",
      "\n",
      "    accuracy                           0.87      8999\n",
      "   macro avg       0.81      0.84      0.82      8999\n",
      "weighted avg       0.88      0.87      0.87      8999\n",
      "\n"
     ]
    }
   ],
   "source": [
    "# Choose a threshold, e.g., 0.6\n",
    "custom_threshold = 0.662\n",
    "y_pred_custom = (y_proba >= custom_threshold).astype(int)\n",
    "# Apply the best threshold for final predictions\n",
    "y_pred = (y_proba >= best_threshold).astype(int)\n",
    "# Evaluate again\n",
    "from sklearn.metrics import classification_report\n",
    "print(\"📊 Report @ threshold = 0.5\")\n",
    "print(classification_report(y_test, (y_proba >= 0.5).astype(int)))\n",
    "print(\"📊 Report @ threshold = best F1\")\n",
    "print(classification_report(y_test, y_pred))"
   ]
  },
  {
   "cell_type": "markdown",
   "metadata": {},
   "source": [
    "* with best F1, recall and precision are more balanced\n",
    "* Accuracy increases from 0.82 to 0.87\n",
    "* However threshold = 0.5 can still be considered when we want to keep high recall"
   ]
  }
 ],
 "metadata": {
  "kaggle": {
   "accelerator": "none",
   "dataSources": [
    {
     "datasetId": 5969230,
     "sourceId": 9750039,
     "sourceType": "datasetVersion"
    }
   ],
   "dockerImageVersionId": 31040,
   "isGpuEnabled": false,
   "isInternetEnabled": true,
   "language": "python",
   "sourceType": "notebook"
  },
  "kernelspec": {
   "display_name": "Python 3",
   "language": "python",
   "name": "python3"
  },
  "language_info": {
   "codemirror_mode": {
    "name": "ipython",
    "version": 3
   },
   "file_extension": ".py",
   "mimetype": "text/x-python",
   "name": "python",
   "nbconvert_exporter": "python",
   "pygments_lexer": "ipython3",
   "version": "3.13.3"
  }
 },
 "nbformat": 4,
 "nbformat_minor": 4
}
